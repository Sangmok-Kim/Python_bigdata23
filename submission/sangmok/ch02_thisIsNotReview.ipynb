{
  "nbformat": 4,
  "nbformat_minor": 0,
  "metadata": {
    "colab": {
      "provenance": [],
      "authorship_tag": "ABX9TyOCDTqAd3lR+nykEumCidn0",
      "include_colab_link": true
    },
    "kernelspec": {
      "name": "python3",
      "display_name": "Python 3"
    },
    "language_info": {
      "name": "python"
    }
  },
  "cells": [
    {
      "cell_type": "markdown",
      "metadata": {
        "id": "view-in-github",
        "colab_type": "text"
      },
      "source": [
        "<a href=\"https://colab.research.google.com/github/Sangmok-Kim/Python_bigdata23/blob/main/submission/sangmok/ch02_thisIsNotReview.ipynb\" target=\"_parent\"><img src=\"https://colab.research.google.com/assets/colab-badge.svg\" alt=\"Open In Colab\"/></a>"
      ]
    },
    {
      "cell_type": "code",
      "execution_count": null,
      "metadata": {
        "colab": {
          "base_uri": "https://localhost:8080/"
        },
        "id": "ysDTbDSJvIy3",
        "outputId": "efd3625e-88c6-4692-ddb8-b40f561adadb"
      },
      "outputs": [
        {
          "output_type": "execute_result",
          "data": {
            "text/plain": [
              "(1, 0)"
            ]
          },
          "metadata": {},
          "execution_count": 1
        }
      ],
      "source": [
        "int(True), int(False)"
      ]
    },
    {
      "cell_type": "code",
      "source": [
        "print(\"Python is interesting\"[::-1])\n",
        "\"\".join(list(\"Python is interesting\")[::-1])"
      ],
      "metadata": {
        "id": "IvI0bJRrvWa9",
        "colab": {
          "base_uri": "https://localhost:8080/",
          "height": 53
        },
        "outputId": "d4b94288-d6d2-4e24-836a-c541b5daeaa2"
      },
      "execution_count": null,
      "outputs": [
        {
          "output_type": "stream",
          "name": "stdout",
          "text": [
            "gnitseretni si nohtyP\n"
          ]
        },
        {
          "output_type": "execute_result",
          "data": {
            "text/plain": [
              "'gnitseretni si nohtyP'"
            ],
            "application/vnd.google.colaboratory.intrinsic+json": {
              "type": "string"
            }
          },
          "metadata": {},
          "execution_count": 4
        }
      ]
    },
    {
      "cell_type": "markdown",
      "source": [
        "https://school.programmers.co.kr/learn/courses/30/lessons/150370 clear!\n"
      ],
      "metadata": {
        "id": "qpUUF8vdvWxo"
      }
    },
    {
      "cell_type": "code",
      "source": [
        "today_tc = [\"2022.05.19\", \"2020.01.01\", \"2000.12.28\"]\n",
        "terms_tc = [[\"A 6\", \"B 12\", \"C 3\"], [\"Z 3\", \"D 5\"], [\"A 77\", \"S 66\", \"D 55\", \"F 44\", \"G 33\", \"H 22\", \"J 11\"]]\n",
        "privacies_tc = [[\"2021.05.02 A\", \"2021.07.01 B\", \"2022.02.19 C\", \"2022.02.20 C\"],\n",
        "                [\"2019.01.01 D\", \"2019.11.15 Z\", \"2019.08.02 D\", \"2019.07.01 D\", \"2018.12.28 Z\"],\n",
        "                [\"2001.01.01 D\", \"2002.12.15 J\", \"2003.08.02 G\", \"2004.07.01 F\", \"2005.12.28 A\"]\n",
        "                ]"
      ],
      "metadata": {
        "id": "Rk_vkhd9vW3k"
      },
      "execution_count": null,
      "outputs": []
    },
    {
      "cell_type": "code",
      "source": [
        "def solution(today, terms, privacies):\n",
        "    answer = []\n",
        "    \n",
        "    tmp_term = []\n",
        "    for x in terms:\n",
        "        tmp_term.append(x.split())\n",
        "    tmp_privacy = []\n",
        "    for x in privacies:\n",
        "        tmp_privacy.append(x.split())\n",
        "        \n",
        "    term_dic = {t:month for t, month in tmp_term}\n",
        "    # print(term_dic)\n",
        "    # print(tmp_privacy)\n",
        "    \n",
        "    idx = 1\n",
        "    for s_date, t in tmp_privacy:\n",
        "        period = int(term_dic[t])\n",
        "        past = 0\n",
        "        s_date_info = s_date.split('.')\n",
        "        today_info = today.split('.')\n",
        "        past += 12 * (int(today_info[0])-int(s_date_info[0]))\n",
        "        past += int(today_info[1])-int(s_date_info[1])\n",
        "        past += int(int(today_info[2]) >= int(s_date_info[2]))\n",
        "        \n",
        "        if past > period:\n",
        "            answer.append(idx)\n",
        "        idx += 1\n",
        "    \n",
        "    return answer"
      ],
      "metadata": {
        "id": "gFaR3Z7cvW9M"
      },
      "execution_count": null,
      "outputs": []
    },
    {
      "cell_type": "code",
      "source": [
        "for today, terms, privacies in zip(today_tc, terms_tc, privacies_tc):\n",
        "  print(solution(today, terms, privacies))"
      ],
      "metadata": {
        "colab": {
          "base_uri": "https://localhost:8080/"
        },
        "id": "fKySdUOTu26T",
        "outputId": "5dd82793-bd8a-478f-f2cf-fbbd4b6af690"
      },
      "execution_count": null,
      "outputs": [
        {
          "output_type": "stream",
          "name": "stdout",
          "text": [
            "[1, 3]\n",
            "[1, 4, 5]\n",
            "[]\n"
          ]
        }
      ]
    },
    {
      "cell_type": "code",
      "source": [
        "from itertools import product\n",
        "help(product)"
      ],
      "metadata": {
        "colab": {
          "base_uri": "https://localhost:8080/"
        },
        "id": "LLD4jBmfwMD1",
        "outputId": "365a941a-3ba8-4343-a43c-ab0fbcad4a57"
      },
      "execution_count": null,
      "outputs": [
        {
          "output_type": "stream",
          "name": "stdout",
          "text": [
            "Help on class product in module itertools:\n",
            "\n",
            "class product(builtins.object)\n",
            " |  product(*iterables, repeat=1) --> product object\n",
            " |  \n",
            " |  Cartesian product of input iterables.  Equivalent to nested for-loops.\n",
            " |  \n",
            " |  For example, product(A, B) returns the same as:  ((x,y) for x in A for y in B).\n",
            " |  The leftmost iterators are in the outermost for-loop, so the output tuples\n",
            " |  cycle in a manner similar to an odometer (with the rightmost element changing\n",
            " |  on every iteration).\n",
            " |  \n",
            " |  To compute the product of an iterable with itself, specify the number\n",
            " |  of repetitions with the optional repeat keyword argument. For example,\n",
            " |  product(A, repeat=4) means the same as product(A, A, A, A).\n",
            " |  \n",
            " |  product('ab', range(3)) --> ('a',0) ('a',1) ('a',2) ('b',0) ('b',1) ('b',2)\n",
            " |  product((0,1), (0,1), (0,1)) --> (0,0,0) (0,0,1) (0,1,0) (0,1,1) (1,0,0) ...\n",
            " |  \n",
            " |  Methods defined here:\n",
            " |  \n",
            " |  __getattribute__(self, name, /)\n",
            " |      Return getattr(self, name).\n",
            " |  \n",
            " |  __iter__(self, /)\n",
            " |      Implement iter(self).\n",
            " |  \n",
            " |  __next__(self, /)\n",
            " |      Implement next(self).\n",
            " |  \n",
            " |  __reduce__(...)\n",
            " |      Return state information for pickling.\n",
            " |  \n",
            " |  __setstate__(...)\n",
            " |      Set state information for unpickling.\n",
            " |  \n",
            " |  __sizeof__(...)\n",
            " |      Returns size in memory, in bytes.\n",
            " |  \n",
            " |  ----------------------------------------------------------------------\n",
            " |  Static methods defined here:\n",
            " |  \n",
            " |  __new__(*args, **kwargs) from builtins.type\n",
            " |      Create and return a new object.  See help(type) for accurate signature.\n",
            "\n"
          ]
        }
      ]
    }
  ]
}